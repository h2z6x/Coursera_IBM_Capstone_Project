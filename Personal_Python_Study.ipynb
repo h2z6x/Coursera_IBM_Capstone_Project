{
    "cells": [
        {
            "cell_type": "markdown",
            "metadata": {
                "collapsed": true
            },
            "source": "# [Markdown](http://xianbai.me/learn-md/)"
        },
        {
            "cell_type": "markdown",
            "metadata": {},
            "source": "Esc + m to change cell type to markdown, Esc + y to code mode."
        },
        {
            "cell_type": "markdown",
            "metadata": {},
            "source": "# Jupyter Notebook Shortcut"
        },
        {
            "cell_type": "markdown",
            "metadata": {},
            "source": "* Shift + Enter run the current cell, select below\n* Ctrl + Enter run selected cells\nAlt + Enter run the current cell, insert below\nCtrl + S save and checkpoint"
        },
        {
            "cell_type": "markdown",
            "metadata": {},
            "source": "***"
        },
        {
            "cell_type": "code",
            "execution_count": null,
            "metadata": {},
            "outputs": [],
            "source": ""
        }
    ],
    "metadata": {
        "kernelspec": {
            "display_name": "Python 3.6",
            "language": "python",
            "name": "python3"
        },
        "language_info": {
            "codemirror_mode": {
                "name": "ipython",
                "version": 3
            },
            "file_extension": ".py",
            "mimetype": "text/x-python",
            "name": "python",
            "nbconvert_exporter": "python",
            "pygments_lexer": "ipython3",
            "version": "3.6.9"
        }
    },
    "nbformat": 4,
    "nbformat_minor": 1
}